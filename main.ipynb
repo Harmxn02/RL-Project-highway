{
 "cells": [
  {
   "cell_type": "markdown",
   "metadata": {},
   "source": [
    "# RL Project - Highway\n",
    "\n",
    "In this project I will train an agent to navigate on a highway, and hopefully avoid crashing. The OpenAI Gymnasium environment is called [HighwayEnv](https://github.com/Farama-Foundation/HighwayEnv) and is made by [Farama-Foundation](https://github.com/Farama-Foundation/).\n",
    "\n",
    "\n",
    "> In this task, the ego-vehicle is driving on a multilane highway populated with other vehicles. The agent's objective is to reach a high speed while avoiding collisions with neighbouring vehicles. Driving on the right side of the road is also rewarded.\n",
    "> -***HighwayEnv's GitHub repository***\n",
    "\n",
    "&nbsp;\n",
    "\n",
    "I was tasked with choosing one or more algorithms I will try, and explain my choice. I also have to train multiple algorithms (or the same algorithm using different hyperparameters)\n",
    "\n",
    "---"
   ]
  },
  {
   "cell_type": "code",
   "execution_count": 1,
   "metadata": {},
   "outputs": [],
   "source": [
    "import gymnasium\n",
    "from IPython import display\n",
    "import matplotlib.pyplot as plt\n",
    "import numpy as np\n",
    "\n",
    "from keras.models import load_model\n",
    "\n",
    "import random\n",
    "from collections import deque\n",
    "from tensorflow.keras.models import Sequential\n",
    "from tensorflow.keras.layers import Dense\n",
    "from tensorflow.keras.optimizers import Adam\n",
    "from tensorflow.keras.callbacks import TensorBoard\n",
    "\n",
    "from stable_baselines3.common.evaluation import evaluate_policy"
   ]
  },
  {
   "cell_type": "code",
   "execution_count": 2,
   "metadata": {},
   "outputs": [
    {
     "data": {
      "image/png": "[encoded data removed]",
      "text/plain": [
       "<Figure size 640x480 with 1 Axes>"
      ]
     },
     "metadata": {},
     "output_type": "display_data"
    }
   ],
   "source": [
    "env = gymnasium.make('highway-v0', render_mode=\"rgb_array\")\n",
    "env.reset()\n",
    "\n",
    "img = plt.imshow(env.render())"
   ]
  },
  {
   "cell_type": "code",
   "execution_count": 3,
   "metadata": {},
   "outputs": [],
   "source": [
    "from gymnasium.wrappers import RecordVideo"
   ]
  },
  {
   "cell_type": "markdown",
   "metadata": {},
   "source": [
    "## 0. Random actions"
   ]
  },
  {
   "cell_type": "code",
   "execution_count": 4,
   "metadata": {},
   "outputs": [
    {
     "name": "stderr",
     "output_type": "stream",
     "text": [
      "c:\\Users\\Harman\\miniconda3\\envs\\gymenv\\Lib\\site-packages\\gymnasium\\wrappers\\record_video.py:94: UserWarning: \u001b[33mWARN: Overwriting existing videos at c:\\Users\\Harman\\Desktop\\AI\\Projects\\RL Project - Highway\\repository\\videos\\random folder (try specifying a different `video_folder` for the `RecordVideo` wrapper if this is not desired)\u001b[0m\n",
      "  logger.warn(\n"
     ]
    },
    {
     "name": "stdout",
     "output_type": "stream",
     "text": [
      "Moviepy - Building video c:\\Users\\Harman\\Desktop\\AI\\Projects\\RL Project - Highway\\repository\\videos\\random\\rl-video-episode-0.mp4.\n",
      "Moviepy - Writing video c:\\Users\\Harman\\Desktop\\AI\\Projects\\RL Project - Highway\\repository\\videos\\random\\rl-video-episode-0.mp4\n",
      "\n"
     ]
    },
    {
     "name": "stderr",
     "output_type": "stream",
     "text": [
      "                                                  "
     ]
    },
    {
     "name": "stdout",
     "output_type": "stream",
     "text": [
      "Moviepy - Done !\n",
      "Moviepy - video ready c:\\Users\\Harman\\Desktop\\AI\\Projects\\RL Project - Highway\\repository\\videos\\random\\rl-video-episode-0.mp4\n",
      "Timesteps taken: 6\n",
      "Penalties incurred: 0\n"
     ]
    },
    {
     "name": "stderr",
     "output_type": "stream",
     "text": [
      "\r"
     ]
    }
   ],
   "source": [
    "directory = \"./videos/random\"\n",
    "env = RecordVideo(gymnasium.make(\"highway-v0\", render_mode=\"rgb_array\"),\n",
    "                  video_folder = directory)\n",
    "\n",
    "observation = env.reset()\n",
    "epochs = 0\n",
    "penalties, reward = 0, 0\n",
    "done = False\n",
    "\n",
    "# max_epochs = 1000\n",
    "# while not done and epochs < max_epochs:\n",
    "\n",
    "while not done:\n",
    "    action = env.action_space.sample()\n",
    "    state, reward, done, truncated, info = env.step(action)\n",
    "\n",
    "    if reward == -10:\n",
    "        penalties += 1\n",
    "    epochs += 1\n",
    "    \n",
    "\n",
    "print(\"Timesteps taken: {}\".format(epochs))\n",
    "print(\"Penalties incurred: {}\".format(penalties))"
   ]
  },
  {
   "cell_type": "markdown",
   "metadata": {},
   "source": [
    "## 1. **Deep Q-Networks (DQN) with `SB3`**\n",
    "\n",
    "The first algorithm I will try out is Deep Q-Networks (DQN). The reasons for trying this algorithm are the following:\n",
    "\n",
    "1. **Suitability for discrete action spaces**: DQN is well-suited for environments with discrete action spaces, where the agent must choose from a finite set of actions at each time step.\n",
    "   \n",
    "2. **Simplicity and ease of implementation**: DQN is relatively simple to understand and implement compared to some other advanced reinforcement learning algorithms.\n",
    "\n",
    "\n",
    "\n",
    "The DQN algorithm is available in `stable_baselines3`, so I will try that because The `stable_baselines3` version of DQN is simpler to understand and implement than the non-SB3 version."
   ]
  },
  {
   "cell_type": "markdown",
   "metadata": {},
   "source": [
    "### Implementation"
   ]
  },
  {
   "cell_type": "code",
   "execution_count": 6,
   "metadata": {},
   "outputs": [
    {
     "name": "stderr",
     "output_type": "stream",
     "text": [
      "c:\\Users\\Harman\\miniconda3\\envs\\gymenv\\Lib\\site-packages\\gymnasium\\wrappers\\record_video.py:94: UserWarning: \u001b[33mWARN: Overwriting existing videos at c:\\Users\\Harman\\Desktop\\AI\\Projects\\RL Project - Highway\\repository\\videos\\DQN-stable-baselines3 folder (try specifying a different `video_folder` for the `RecordVideo` wrapper if this is not desired)\u001b[0m\n",
      "  logger.warn(\n"
     ]
    },
    {
     "name": "stdout",
     "output_type": "stream",
     "text": [
      "Moviepy - Building video c:\\Users\\Harman\\Desktop\\AI\\Projects\\RL Project - Highway\\repository\\videos\\DQN-stable-baselines3\\rl-video-episode-0.mp4.\n",
      "Moviepy - Writing video c:\\Users\\Harman\\Desktop\\AI\\Projects\\RL Project - Highway\\repository\\videos\\DQN-stable-baselines3\\rl-video-episode-0.mp4\n",
      "\n"
     ]
    },
    {
     "name": "stderr",
     "output_type": "stream",
     "text": [
      "                                                   "
     ]
    },
    {
     "name": "stdout",
     "output_type": "stream",
     "text": [
      "Moviepy - Done !\n",
      "Moviepy - video ready c:\\Users\\Harman\\Desktop\\AI\\Projects\\RL Project - Highway\\repository\\videos\\DQN-stable-baselines3\\rl-video-episode-0.mp4\n"
     ]
    },
    {
     "name": "stderr",
     "output_type": "stream",
     "text": [
      "\r"
     ]
    },
    {
     "name": "stdout",
     "output_type": "stream",
     "text": [
      "Moviepy - Building video c:\\Users\\Harman\\Desktop\\AI\\Projects\\RL Project - Highway\\repository\\videos\\DQN-stable-baselines3\\rl-video-episode-1.mp4.\n",
      "Moviepy - Writing video c:\\Users\\Harman\\Desktop\\AI\\Projects\\RL Project - Highway\\repository\\videos\\DQN-stable-baselines3\\rl-video-episode-1.mp4\n",
      "\n"
     ]
    },
    {
     "name": "stderr",
     "output_type": "stream",
     "text": [
      "                                                   "
     ]
    },
    {
     "name": "stdout",
     "output_type": "stream",
     "text": [
      "Moviepy - Done !\n",
      "Moviepy - video ready c:\\Users\\Harman\\Desktop\\AI\\Projects\\RL Project - Highway\\repository\\videos\\DQN-stable-baselines3\\rl-video-episode-1.mp4\n"
     ]
    },
    {
     "name": "stderr",
     "output_type": "stream",
     "text": [
      "\r"
     ]
    },
    {
     "name": "stdout",
     "output_type": "stream",
     "text": [
      "Moviepy - Building video c:\\Users\\Harman\\Desktop\\AI\\Projects\\RL Project - Highway\\repository\\videos\\DQN-stable-baselines3\\rl-video-episode-8.mp4.\n",
      "Moviepy - Writing video c:\\Users\\Harman\\Desktop\\AI\\Projects\\RL Project - Highway\\repository\\videos\\DQN-stable-baselines3\\rl-video-episode-8.mp4\n",
      "\n"
     ]
    },
    {
     "name": "stderr",
     "output_type": "stream",
     "text": [
      "                                                   "
     ]
    },
    {
     "name": "stdout",
     "output_type": "stream",
     "text": [
      "Moviepy - Done !\n",
      "Moviepy - video ready c:\\Users\\Harman\\Desktop\\AI\\Projects\\RL Project - Highway\\repository\\videos\\DQN-stable-baselines3\\rl-video-episode-8.mp4\n"
     ]
    },
    {
     "name": "stderr",
     "output_type": "stream",
     "text": [
      "\r"
     ]
    },
    {
     "name": "stdout",
     "output_type": "stream",
     "text": [
      "Moviepy - Building video c:\\Users\\Harman\\Desktop\\AI\\Projects\\RL Project - Highway\\repository\\videos\\DQN-stable-baselines3\\rl-video-episode-27.mp4.\n",
      "Moviepy - Writing video c:\\Users\\Harman\\Desktop\\AI\\Projects\\RL Project - Highway\\repository\\videos\\DQN-stable-baselines3\\rl-video-episode-27.mp4\n",
      "\n"
     ]
    },
    {
     "name": "stderr",
     "output_type": "stream",
     "text": [
      "                                                  "
     ]
    },
    {
     "name": "stdout",
     "output_type": "stream",
     "text": [
      "Moviepy - Done !\n",
      "Moviepy - video ready c:\\Users\\Harman\\Desktop\\AI\\Projects\\RL Project - Highway\\repository\\videos\\DQN-stable-baselines3\\rl-video-episode-27.mp4\n"
     ]
    },
    {
     "name": "stderr",
     "output_type": "stream",
     "text": [
      "\r"
     ]
    },
    {
     "name": "stdout",
     "output_type": "stream",
     "text": [
      "Moviepy - Building video c:\\Users\\Harman\\Desktop\\AI\\Projects\\RL Project - Highway\\repository\\videos\\DQN-stable-baselines3\\rl-video-episode-64.mp4.\n",
      "Moviepy - Writing video c:\\Users\\Harman\\Desktop\\AI\\Projects\\RL Project - Highway\\repository\\videos\\DQN-stable-baselines3\\rl-video-episode-64.mp4\n",
      "\n"
     ]
    },
    {
     "name": "stderr",
     "output_type": "stream",
     "text": [
      "                                                   "
     ]
    },
    {
     "name": "stdout",
     "output_type": "stream",
     "text": [
      "Moviepy - Done !\n",
      "Moviepy - video ready c:\\Users\\Harman\\Desktop\\AI\\Projects\\RL Project - Highway\\repository\\videos\\DQN-stable-baselines3\\rl-video-episode-64.mp4\n"
     ]
    },
    {
     "name": "stderr",
     "output_type": "stream",
     "text": [
      "\r"
     ]
    },
    {
     "name": "stdout",
     "output_type": "stream",
     "text": [
      "Moviepy - Building video c:\\Users\\Harman\\Desktop\\AI\\Projects\\RL Project - Highway\\repository\\videos\\DQN-stable-baselines3\\rl-video-episode-125.mp4.\n",
      "Moviepy - Writing video c:\\Users\\Harman\\Desktop\\AI\\Projects\\RL Project - Highway\\repository\\videos\\DQN-stable-baselines3\\rl-video-episode-125.mp4\n",
      "\n"
     ]
    },
    {
     "name": "stderr",
     "output_type": "stream",
     "text": [
      "                                                   "
     ]
    },
    {
     "name": "stdout",
     "output_type": "stream",
     "text": [
      "Moviepy - Done !\n",
      "Moviepy - video ready c:\\Users\\Harman\\Desktop\\AI\\Projects\\RL Project - Highway\\repository\\videos\\DQN-stable-baselines3\\rl-video-episode-125.mp4\n"
     ]
    },
    {
     "name": "stderr",
     "output_type": "stream",
     "text": [
      "\r"
     ]
    },
    {
     "name": "stdout",
     "output_type": "stream",
     "text": [
      "Moviepy - Building video c:\\Users\\Harman\\Desktop\\AI\\Projects\\RL Project - Highway\\repository\\videos\\DQN-stable-baselines3\\rl-video-episode-216.mp4.\n",
      "Moviepy - Writing video c:\\Users\\Harman\\Desktop\\AI\\Projects\\RL Project - Highway\\repository\\videos\\DQN-stable-baselines3\\rl-video-episode-216.mp4\n",
      "\n"
     ]
    },
    {
     "name": "stderr",
     "output_type": "stream",
     "text": [
      "                                                  "
     ]
    },
    {
     "name": "stdout",
     "output_type": "stream",
     "text": [
      "Moviepy - Done !\n",
      "Moviepy - video ready c:\\Users\\Harman\\Desktop\\AI\\Projects\\RL Project - Highway\\repository\\videos\\DQN-stable-baselines3\\rl-video-episode-216.mp4\n"
     ]
    },
    {
     "name": "stderr",
     "output_type": "stream",
     "text": [
      "\r"
     ]
    },
    {
     "name": "stdout",
     "output_type": "stream",
     "text": [
      "Moviepy - Building video c:\\Users\\Harman\\Desktop\\AI\\Projects\\RL Project - Highway\\repository\\videos\\DQN-stable-baselines3\\rl-video-episode-343.mp4.\n",
      "Moviepy - Writing video c:\\Users\\Harman\\Desktop\\AI\\Projects\\RL Project - Highway\\repository\\videos\\DQN-stable-baselines3\\rl-video-episode-343.mp4\n",
      "\n"
     ]
    },
    {
     "name": "stderr",
     "output_type": "stream",
     "text": [
      "                                                   "
     ]
    },
    {
     "name": "stdout",
     "output_type": "stream",
     "text": [
      "Moviepy - Done !\n",
      "Moviepy - video ready c:\\Users\\Harman\\Desktop\\AI\\Projects\\RL Project - Highway\\repository\\videos\\DQN-stable-baselines3\\rl-video-episode-343.mp4\n"
     ]
    },
    {
     "name": "stderr",
     "output_type": "stream",
     "text": [
      "\r"
     ]
    },
    {
     "name": "stdout",
     "output_type": "stream",
     "text": [
      "Moviepy - Building video c:\\Users\\Harman\\Desktop\\AI\\Projects\\RL Project - Highway\\repository\\videos\\DQN-stable-baselines3\\rl-video-episode-512.mp4.\n",
      "Moviepy - Writing video c:\\Users\\Harman\\Desktop\\AI\\Projects\\RL Project - Highway\\repository\\videos\\DQN-stable-baselines3\\rl-video-episode-512.mp4\n",
      "\n"
     ]
    },
    {
     "name": "stderr",
     "output_type": "stream",
     "text": [
      "                                                  "
     ]
    },
    {
     "name": "stdout",
     "output_type": "stream",
     "text": [
      "Moviepy - Done !\n",
      "Moviepy - video ready c:\\Users\\Harman\\Desktop\\AI\\Projects\\RL Project - Highway\\repository\\videos\\DQN-stable-baselines3\\rl-video-episode-512.mp4\n"
     ]
    },
    {
     "name": "stderr",
     "output_type": "stream",
     "text": [
      "\r"
     ]
    },
    {
     "name": "stdout",
     "output_type": "stream",
     "text": [
      "Moviepy - Building video c:\\Users\\Harman\\Desktop\\AI\\Projects\\RL Project - Highway\\repository\\videos\\DQN-stable-baselines3\\rl-video-episode-729.mp4.\n",
      "Moviepy - Writing video c:\\Users\\Harman\\Desktop\\AI\\Projects\\RL Project - Highway\\repository\\videos\\DQN-stable-baselines3\\rl-video-episode-729.mp4\n",
      "\n"
     ]
    },
    {
     "name": "stderr",
     "output_type": "stream",
     "text": [
      "                                                  "
     ]
    },
    {
     "name": "stdout",
     "output_type": "stream",
     "text": [
      "Moviepy - Done !\n",
      "Moviepy - video ready c:\\Users\\Harman\\Desktop\\AI\\Projects\\RL Project - Highway\\repository\\videos\\DQN-stable-baselines3\\rl-video-episode-729.mp4\n"
     ]
    },
    {
     "name": "stderr",
     "output_type": "stream",
     "text": [
      "\r"
     ]
    },
    {
     "name": "stdout",
     "output_type": "stream",
     "text": [
      "Moviepy - Building video c:\\Users\\Harman\\Desktop\\AI\\Projects\\RL Project - Highway\\repository\\videos\\DQN-stable-baselines3\\rl-video-episode-1000.mp4.\n",
      "Moviepy - Writing video c:\\Users\\Harman\\Desktop\\AI\\Projects\\RL Project - Highway\\repository\\videos\\DQN-stable-baselines3\\rl-video-episode-1000.mp4\n",
      "\n"
     ]
    },
    {
     "name": "stderr",
     "output_type": "stream",
     "text": [
      "                                                   "
     ]
    },
    {
     "name": "stdout",
     "output_type": "stream",
     "text": [
      "Moviepy - Done !\n",
      "Moviepy - video ready c:\\Users\\Harman\\Desktop\\AI\\Projects\\RL Project - Highway\\repository\\videos\\DQN-stable-baselines3\\rl-video-episode-1000.mp4\n"
     ]
    },
    {
     "name": "stderr",
     "output_type": "stream",
     "text": [
      "\r"
     ]
    }
   ],
   "source": [
    "from stable_baselines3 import DQN\n",
    "\n",
    "directory = \"./videos/DQN-stable-baselines3\"\n",
    "env = RecordVideo(gymnasium.make(\"highway-v0\", render_mode=\"rgb_array\"),\n",
    "                  video_folder = directory)\n",
    "\n",
    "\n",
    "dqn_model = DQN(\"MlpPolicy\", env, verbose=0)\n",
    "dqn_model.learn(total_timesteps=10000, log_interval=1000)\n",
    "dqn_model.save(\"./models/dqn_sb3_model.keras\")\n",
    "dqn_model.save(\"./models/dqn_sb3_model\")"
   ]
  },
  {
   "cell_type": "markdown",
   "metadata": {},
   "source": [
    "### Evaluate policy"
   ]
  },
  {
   "cell_type": "code",
   "execution_count": 7,
   "metadata": {},
   "outputs": [
    {
     "name": "stderr",
     "output_type": "stream",
     "text": [
      "c:\\Users\\Harman\\miniconda3\\envs\\gymenv\\Lib\\site-packages\\stable_baselines3\\common\\evaluation.py:67: UserWarning: Evaluation environment is not wrapped with a ``Monitor`` wrapper. This may result in reporting modified episode lengths and rewards, if other wrappers happen to modify these. Consider wrapping environment first with ``Monitor`` wrapper.\n",
      "  warnings.warn(\n"
     ]
    },
    {
     "data": {
      "text/plain": [
       "(8.293995829075575, 4.938060500188515)"
      ]
     },
     "execution_count": 7,
     "metadata": {},
     "output_type": "execute_result"
    }
   ],
   "source": [
    "evaluate_policy(dqn_model, env, n_eval_episodes=100)"
   ]
  },
  {
   "cell_type": "markdown",
   "metadata": {},
   "source": [
    "## 2. **Proximal Policy Optimization (PPO) with `SB3`**\n",
    "\n",
    "\n",
    "The second algorithm I will try out is Proximal Policy Optimization (PPO). The reasons for trying this algorithm are the following:\n",
    "\n",
    "1. **Suitability for discrete action spaces**: DQN is well-suited for environments with discrete action spaces, where the agent must choose from a finite set of actions at each time step.\n",
    "   \n",
    "2. **Simplicity and ease of implementation**: PPO is also simple to understand and implement compared to some other advanced reinforcement learning algorithms.\n",
    "\n",
    "\n",
    "\n",
    "The PPO algorithm is available in `stable_baselines3`, so I will try it out."
   ]
  },
  {
   "cell_type": "markdown",
   "metadata": {},
   "source": [
    "### Implementation"
   ]
  },
  {
   "cell_type": "code",
   "execution_count": 8,
   "metadata": {},
   "outputs": [
    {
     "name": "stderr",
     "output_type": "stream",
     "text": [
      "c:\\Users\\Harman\\miniconda3\\envs\\gymenv\\Lib\\site-packages\\gymnasium\\wrappers\\record_video.py:94: UserWarning: \u001b[33mWARN: Overwriting existing videos at c:\\Users\\Harman\\Desktop\\AI\\Projects\\RL Project - Highway\\repository\\videos\\PPO-stable-baselines3 folder (try specifying a different `video_folder` for the `RecordVideo` wrapper if this is not desired)\u001b[0m\n",
      "  logger.warn(\n"
     ]
    },
    {
     "name": "stdout",
     "output_type": "stream",
     "text": [
      "Moviepy - Building video c:\\Users\\Harman\\Desktop\\AI\\Projects\\RL Project - Highway\\repository\\videos\\PPO-stable-baselines3\\rl-video-episode-0.mp4.\n",
      "Moviepy - Writing video c:\\Users\\Harman\\Desktop\\AI\\Projects\\RL Project - Highway\\repository\\videos\\PPO-stable-baselines3\\rl-video-episode-0.mp4\n",
      "\n"
     ]
    },
    {
     "name": "stderr",
     "output_type": "stream",
     "text": [
      "                                                  "
     ]
    },
    {
     "name": "stdout",
     "output_type": "stream",
     "text": [
      "Moviepy - Done !\n",
      "Moviepy - video ready c:\\Users\\Harman\\Desktop\\AI\\Projects\\RL Project - Highway\\repository\\videos\\PPO-stable-baselines3\\rl-video-episode-0.mp4\n"
     ]
    },
    {
     "name": "stderr",
     "output_type": "stream",
     "text": [
      "\r"
     ]
    },
    {
     "name": "stdout",
     "output_type": "stream",
     "text": [
      "Moviepy - Building video c:\\Users\\Harman\\Desktop\\AI\\Projects\\RL Project - Highway\\repository\\videos\\PPO-stable-baselines3\\rl-video-episode-1.mp4.\n",
      "Moviepy - Writing video c:\\Users\\Harman\\Desktop\\AI\\Projects\\RL Project - Highway\\repository\\videos\\PPO-stable-baselines3\\rl-video-episode-1.mp4\n",
      "\n"
     ]
    },
    {
     "name": "stderr",
     "output_type": "stream",
     "text": [
      "                                                  "
     ]
    },
    {
     "name": "stdout",
     "output_type": "stream",
     "text": [
      "Moviepy - Done !\n",
      "Moviepy - video ready c:\\Users\\Harman\\Desktop\\AI\\Projects\\RL Project - Highway\\repository\\videos\\PPO-stable-baselines3\\rl-video-episode-1.mp4\n"
     ]
    },
    {
     "name": "stderr",
     "output_type": "stream",
     "text": [
      "\r"
     ]
    },
    {
     "name": "stdout",
     "output_type": "stream",
     "text": [
      "Moviepy - Building video c:\\Users\\Harman\\Desktop\\AI\\Projects\\RL Project - Highway\\repository\\videos\\PPO-stable-baselines3\\rl-video-episode-8.mp4.\n",
      "Moviepy - Writing video c:\\Users\\Harman\\Desktop\\AI\\Projects\\RL Project - Highway\\repository\\videos\\PPO-stable-baselines3\\rl-video-episode-8.mp4\n",
      "\n"
     ]
    },
    {
     "name": "stderr",
     "output_type": "stream",
     "text": [
      "                                                   "
     ]
    },
    {
     "name": "stdout",
     "output_type": "stream",
     "text": [
      "Moviepy - Done !\n",
      "Moviepy - video ready c:\\Users\\Harman\\Desktop\\AI\\Projects\\RL Project - Highway\\repository\\videos\\PPO-stable-baselines3\\rl-video-episode-8.mp4\n"
     ]
    },
    {
     "name": "stderr",
     "output_type": "stream",
     "text": [
      "\r"
     ]
    },
    {
     "name": "stdout",
     "output_type": "stream",
     "text": [
      "Moviepy - Building video c:\\Users\\Harman\\Desktop\\AI\\Projects\\RL Project - Highway\\repository\\videos\\PPO-stable-baselines3\\rl-video-episode-27.mp4.\n",
      "Moviepy - Writing video c:\\Users\\Harman\\Desktop\\AI\\Projects\\RL Project - Highway\\repository\\videos\\PPO-stable-baselines3\\rl-video-episode-27.mp4\n",
      "\n"
     ]
    },
    {
     "name": "stderr",
     "output_type": "stream",
     "text": [
      "                                                  "
     ]
    },
    {
     "name": "stdout",
     "output_type": "stream",
     "text": [
      "Moviepy - Done !\n",
      "Moviepy - video ready c:\\Users\\Harman\\Desktop\\AI\\Projects\\RL Project - Highway\\repository\\videos\\PPO-stable-baselines3\\rl-video-episode-27.mp4\n"
     ]
    },
    {
     "name": "stderr",
     "output_type": "stream",
     "text": [
      "\r"
     ]
    },
    {
     "name": "stdout",
     "output_type": "stream",
     "text": [
      "Moviepy - Building video c:\\Users\\Harman\\Desktop\\AI\\Projects\\RL Project - Highway\\repository\\videos\\PPO-stable-baselines3\\rl-video-episode-64.mp4.\n",
      "Moviepy - Writing video c:\\Users\\Harman\\Desktop\\AI\\Projects\\RL Project - Highway\\repository\\videos\\PPO-stable-baselines3\\rl-video-episode-64.mp4\n",
      "\n"
     ]
    },
    {
     "name": "stderr",
     "output_type": "stream",
     "text": [
      "                                                  "
     ]
    },
    {
     "name": "stdout",
     "output_type": "stream",
     "text": [
      "Moviepy - Done !\n",
      "Moviepy - video ready c:\\Users\\Harman\\Desktop\\AI\\Projects\\RL Project - Highway\\repository\\videos\\PPO-stable-baselines3\\rl-video-episode-64.mp4\n"
     ]
    },
    {
     "name": "stderr",
     "output_type": "stream",
     "text": [
      "\r"
     ]
    },
    {
     "name": "stdout",
     "output_type": "stream",
     "text": [
      "Moviepy - Building video c:\\Users\\Harman\\Desktop\\AI\\Projects\\RL Project - Highway\\repository\\videos\\PPO-stable-baselines3\\rl-video-episode-125.mp4.\n",
      "Moviepy - Writing video c:\\Users\\Harman\\Desktop\\AI\\Projects\\RL Project - Highway\\repository\\videos\\PPO-stable-baselines3\\rl-video-episode-125.mp4\n",
      "\n"
     ]
    },
    {
     "name": "stderr",
     "output_type": "stream",
     "text": [
      "                                                  \r"
     ]
    },
    {
     "name": "stdout",
     "output_type": "stream",
     "text": [
      "Moviepy - Done !\n",
      "Moviepy - video ready c:\\Users\\Harman\\Desktop\\AI\\Projects\\RL Project - Highway\\repository\\videos\\PPO-stable-baselines3\\rl-video-episode-125.mp4\n",
      "Moviepy - Building video c:\\Users\\Harman\\Desktop\\AI\\Projects\\RL Project - Highway\\repository\\videos\\PPO-stable-baselines3\\rl-video-episode-216.mp4.\n",
      "Moviepy - Writing video c:\\Users\\Harman\\Desktop\\AI\\Projects\\RL Project - Highway\\repository\\videos\\PPO-stable-baselines3\\rl-video-episode-216.mp4\n",
      "\n"
     ]
    },
    {
     "name": "stderr",
     "output_type": "stream",
     "text": [
      "                                                   "
     ]
    },
    {
     "name": "stdout",
     "output_type": "stream",
     "text": [
      "Moviepy - Done !\n",
      "Moviepy - video ready c:\\Users\\Harman\\Desktop\\AI\\Projects\\RL Project - Highway\\repository\\videos\\PPO-stable-baselines3\\rl-video-episode-216.mp4\n"
     ]
    },
    {
     "name": "stderr",
     "output_type": "stream",
     "text": [
      "\r"
     ]
    },
    {
     "name": "stdout",
     "output_type": "stream",
     "text": [
      "Moviepy - Building video c:\\Users\\Harman\\Desktop\\AI\\Projects\\RL Project - Highway\\repository\\videos\\PPO-stable-baselines3\\rl-video-episode-343.mp4.\n",
      "Moviepy - Writing video c:\\Users\\Harman\\Desktop\\AI\\Projects\\RL Project - Highway\\repository\\videos\\PPO-stable-baselines3\\rl-video-episode-343.mp4\n",
      "\n"
     ]
    },
    {
     "name": "stderr",
     "output_type": "stream",
     "text": [
      "                                                   "
     ]
    },
    {
     "name": "stdout",
     "output_type": "stream",
     "text": [
      "Moviepy - Done !\n",
      "Moviepy - video ready c:\\Users\\Harman\\Desktop\\AI\\Projects\\RL Project - Highway\\repository\\videos\\PPO-stable-baselines3\\rl-video-episode-343.mp4\n"
     ]
    },
    {
     "name": "stderr",
     "output_type": "stream",
     "text": [
      "\r"
     ]
    },
    {
     "name": "stdout",
     "output_type": "stream",
     "text": [
      "Moviepy - Building video c:\\Users\\Harman\\Desktop\\AI\\Projects\\RL Project - Highway\\repository\\videos\\PPO-stable-baselines3\\rl-video-episode-512.mp4.\n",
      "Moviepy - Writing video c:\\Users\\Harman\\Desktop\\AI\\Projects\\RL Project - Highway\\repository\\videos\\PPO-stable-baselines3\\rl-video-episode-512.mp4\n",
      "\n"
     ]
    },
    {
     "name": "stderr",
     "output_type": "stream",
     "text": [
      "                                                             "
     ]
    },
    {
     "name": "stdout",
     "output_type": "stream",
     "text": [
      "Moviepy - Done !\n",
      "Moviepy - video ready c:\\Users\\Harman\\Desktop\\AI\\Projects\\RL Project - Highway\\repository\\videos\\PPO-stable-baselines3\\rl-video-episode-512.mp4\n"
     ]
    },
    {
     "name": "stderr",
     "output_type": "stream",
     "text": [
      "\r"
     ]
    }
   ],
   "source": [
    "from stable_baselines3 import PPO\n",
    "\n",
    "directory = \"./videos/PPO-stable-baselines3\"\n",
    "env = RecordVideo(gymnasium.make(\"highway-v0\", render_mode=\"rgb_array\"),\n",
    "                  video_folder = directory)\n",
    "\n",
    "\n",
    "ppo_model = PPO(\"MlpPolicy\", env, verbose=0)\n",
    "ppo_model.learn(total_timesteps=10000, log_interval=1000)\n",
    "ppo_model.save(\"./models/ppo_sb3_model.keras\")\n",
    "ppo_model.save(\"./models/ppo_sb3_model\")"
   ]
  },
  {
   "cell_type": "markdown",
   "metadata": {},
   "source": [
    "### Evaluation"
   ]
  },
  {
   "cell_type": "code",
   "execution_count": 9,
   "metadata": {},
   "outputs": [
    {
     "name": "stderr",
     "output_type": "stream",
     "text": [
      "c:\\Users\\Harman\\miniconda3\\envs\\gymenv\\Lib\\site-packages\\stable_baselines3\\common\\evaluation.py:67: UserWarning: Evaluation environment is not wrapped with a ``Monitor`` wrapper. This may result in reporting modified episode lengths and rewards, if other wrappers happen to modify these. Consider wrapping environment first with ``Monitor`` wrapper.\n",
      "  warnings.warn(\n"
     ]
    },
    {
     "data": {
      "text/plain": [
       "(28.649703979492188, 0.8709296344114532)"
      ]
     },
     "execution_count": 9,
     "metadata": {},
     "output_type": "execute_result"
    }
   ],
   "source": [
    "evaluate_policy(ppo_model, env, n_eval_episodes=10)"
   ]
  },
  {
   "cell_type": "markdown",
   "metadata": {},
   "source": [
    "## 3. **Advantage Actor-Critic (A2C) with `SB3`**\n",
    "\n",
    "A2C (Advantage Actor-Critic): A synchronous version of A3C (Asynchronous Advantage Actor-Critic), which updates the policy and value function using gradient descent."
   ]
  },
  {
   "cell_type": "markdown",
   "metadata": {},
   "source": [
    "### Implementation"
   ]
  },
  {
   "cell_type": "code",
   "execution_count": 10,
   "metadata": {},
   "outputs": [
    {
     "name": "stdout",
     "output_type": "stream",
     "text": [
      "Moviepy - Building video c:\\Users\\Harman\\Desktop\\AI\\Projects\\RL Project - Highway\\repository\\videos\\A2C-stable-baselines3\\rl-video-episode-0.mp4.\n",
      "Moviepy - Writing video c:\\Users\\Harman\\Desktop\\AI\\Projects\\RL Project - Highway\\repository\\videos\\A2C-stable-baselines3\\rl-video-episode-0.mp4\n",
      "\n"
     ]
    },
    {
     "name": "stderr",
     "output_type": "stream",
     "text": [
      "                                                  "
     ]
    },
    {
     "name": "stdout",
     "output_type": "stream",
     "text": [
      "Moviepy - Done !\n",
      "Moviepy - video ready c:\\Users\\Harman\\Desktop\\AI\\Projects\\RL Project - Highway\\repository\\videos\\A2C-stable-baselines3\\rl-video-episode-0.mp4\n"
     ]
    },
    {
     "name": "stderr",
     "output_type": "stream",
     "text": [
      "\r"
     ]
    },
    {
     "name": "stdout",
     "output_type": "stream",
     "text": [
      "Moviepy - Building video c:\\Users\\Harman\\Desktop\\AI\\Projects\\RL Project - Highway\\repository\\videos\\A2C-stable-baselines3\\rl-video-episode-1.mp4.\n",
      "Moviepy - Writing video c:\\Users\\Harman\\Desktop\\AI\\Projects\\RL Project - Highway\\repository\\videos\\A2C-stable-baselines3\\rl-video-episode-1.mp4\n",
      "\n"
     ]
    },
    {
     "name": "stderr",
     "output_type": "stream",
     "text": [
      "                                                  "
     ]
    },
    {
     "name": "stdout",
     "output_type": "stream",
     "text": [
      "Moviepy - Done !\n",
      "Moviepy - video ready c:\\Users\\Harman\\Desktop\\AI\\Projects\\RL Project - Highway\\repository\\videos\\A2C-stable-baselines3\\rl-video-episode-1.mp4\n"
     ]
    },
    {
     "name": "stderr",
     "output_type": "stream",
     "text": [
      "\r"
     ]
    },
    {
     "name": "stdout",
     "output_type": "stream",
     "text": [
      "Moviepy - Building video c:\\Users\\Harman\\Desktop\\AI\\Projects\\RL Project - Highway\\repository\\videos\\A2C-stable-baselines3\\rl-video-episode-8.mp4.\n",
      "Moviepy - Writing video c:\\Users\\Harman\\Desktop\\AI\\Projects\\RL Project - Highway\\repository\\videos\\A2C-stable-baselines3\\rl-video-episode-8.mp4\n",
      "\n"
     ]
    },
    {
     "name": "stderr",
     "output_type": "stream",
     "text": [
      "                                                   "
     ]
    },
    {
     "name": "stdout",
     "output_type": "stream",
     "text": [
      "Moviepy - Done !\n",
      "Moviepy - video ready c:\\Users\\Harman\\Desktop\\AI\\Projects\\RL Project - Highway\\repository\\videos\\A2C-stable-baselines3\\rl-video-episode-8.mp4\n"
     ]
    },
    {
     "name": "stderr",
     "output_type": "stream",
     "text": [
      "\r"
     ]
    },
    {
     "name": "stdout",
     "output_type": "stream",
     "text": [
      "Moviepy - Building video c:\\Users\\Harman\\Desktop\\AI\\Projects\\RL Project - Highway\\repository\\videos\\A2C-stable-baselines3\\rl-video-episode-27.mp4.\n",
      "Moviepy - Writing video c:\\Users\\Harman\\Desktop\\AI\\Projects\\RL Project - Highway\\repository\\videos\\A2C-stable-baselines3\\rl-video-episode-27.mp4\n",
      "\n"
     ]
    },
    {
     "name": "stderr",
     "output_type": "stream",
     "text": [
      "                                                  "
     ]
    },
    {
     "name": "stdout",
     "output_type": "stream",
     "text": [
      "Moviepy - Done !\n",
      "Moviepy - video ready c:\\Users\\Harman\\Desktop\\AI\\Projects\\RL Project - Highway\\repository\\videos\\A2C-stable-baselines3\\rl-video-episode-27.mp4\n"
     ]
    },
    {
     "name": "stderr",
     "output_type": "stream",
     "text": [
      "\r"
     ]
    },
    {
     "name": "stdout",
     "output_type": "stream",
     "text": [
      "Moviepy - Building video c:\\Users\\Harman\\Desktop\\AI\\Projects\\RL Project - Highway\\repository\\videos\\A2C-stable-baselines3\\rl-video-episode-64.mp4.\n",
      "Moviepy - Writing video c:\\Users\\Harman\\Desktop\\AI\\Projects\\RL Project - Highway\\repository\\videos\\A2C-stable-baselines3\\rl-video-episode-64.mp4\n",
      "\n"
     ]
    },
    {
     "name": "stderr",
     "output_type": "stream",
     "text": [
      "                                                             "
     ]
    },
    {
     "name": "stdout",
     "output_type": "stream",
     "text": [
      "Moviepy - Done !\n",
      "Moviepy - video ready c:\\Users\\Harman\\Desktop\\AI\\Projects\\RL Project - Highway\\repository\\videos\\A2C-stable-baselines3\\rl-video-episode-64.mp4\n"
     ]
    },
    {
     "name": "stderr",
     "output_type": "stream",
     "text": [
      "\r"
     ]
    },
    {
     "name": "stdout",
     "output_type": "stream",
     "text": [
      "Moviepy - Building video c:\\Users\\Harman\\Desktop\\AI\\Projects\\RL Project - Highway\\repository\\videos\\A2C-stable-baselines3\\rl-video-episode-125.mp4.\n",
      "Moviepy - Writing video c:\\Users\\Harman\\Desktop\\AI\\Projects\\RL Project - Highway\\repository\\videos\\A2C-stable-baselines3\\rl-video-episode-125.mp4\n",
      "\n"
     ]
    },
    {
     "name": "stderr",
     "output_type": "stream",
     "text": [
      "                                                             "
     ]
    },
    {
     "name": "stdout",
     "output_type": "stream",
     "text": [
      "Moviepy - Done !\n",
      "Moviepy - video ready c:\\Users\\Harman\\Desktop\\AI\\Projects\\RL Project - Highway\\repository\\videos\\A2C-stable-baselines3\\rl-video-episode-125.mp4\n"
     ]
    },
    {
     "name": "stderr",
     "output_type": "stream",
     "text": [
      "\r"
     ]
    },
    {
     "name": "stdout",
     "output_type": "stream",
     "text": [
      "Moviepy - Building video c:\\Users\\Harman\\Desktop\\AI\\Projects\\RL Project - Highway\\repository\\videos\\A2C-stable-baselines3\\rl-video-episode-216.mp4.\n",
      "Moviepy - Writing video c:\\Users\\Harman\\Desktop\\AI\\Projects\\RL Project - Highway\\repository\\videos\\A2C-stable-baselines3\\rl-video-episode-216.mp4\n",
      "\n"
     ]
    },
    {
     "name": "stderr",
     "output_type": "stream",
     "text": [
      "                                                             "
     ]
    },
    {
     "name": "stdout",
     "output_type": "stream",
     "text": [
      "Moviepy - Done !\n",
      "Moviepy - video ready c:\\Users\\Harman\\Desktop\\AI\\Projects\\RL Project - Highway\\repository\\videos\\A2C-stable-baselines3\\rl-video-episode-216.mp4\n"
     ]
    },
    {
     "name": "stderr",
     "output_type": "stream",
     "text": [
      "\r"
     ]
    },
    {
     "name": "stdout",
     "output_type": "stream",
     "text": [
      "Moviepy - Building video c:\\Users\\Harman\\Desktop\\AI\\Projects\\RL Project - Highway\\repository\\videos\\A2C-stable-baselines3\\rl-video-episode-343.mp4.\n",
      "Moviepy - Writing video c:\\Users\\Harman\\Desktop\\AI\\Projects\\RL Project - Highway\\repository\\videos\\A2C-stable-baselines3\\rl-video-episode-343.mp4\n",
      "\n"
     ]
    },
    {
     "name": "stderr",
     "output_type": "stream",
     "text": [
      "                                                  "
     ]
    },
    {
     "name": "stdout",
     "output_type": "stream",
     "text": [
      "Moviepy - Done !\n",
      "Moviepy - video ready c:\\Users\\Harman\\Desktop\\AI\\Projects\\RL Project - Highway\\repository\\videos\\A2C-stable-baselines3\\rl-video-episode-343.mp4\n"
     ]
    },
    {
     "name": "stderr",
     "output_type": "stream",
     "text": [
      "\r"
     ]
    }
   ],
   "source": [
    "from stable_baselines3 import A2C\n",
    "\n",
    "directory = \"./videos/A2C-stable-baselines3\"\n",
    "env = RecordVideo(gymnasium.make(\"highway-v0\", render_mode=\"rgb_array\"),\n",
    "                  video_folder = directory)\n",
    "\n",
    "\n",
    "a2c_model = A2C(\"MlpPolicy\", env, verbose=0)\n",
    "a2c_model.learn(total_timesteps=10000, log_interval=1000)\n",
    "a2c_model.save(\"./models/a2c_sb3_model.keras\")\n",
    "a2c_model.save(\"./models/a2c_sb3_model\")"
   ]
  },
  {
   "cell_type": "markdown",
   "metadata": {},
   "source": [
    "### Evaluation"
   ]
  },
  {
   "cell_type": "code",
   "execution_count": 11,
   "metadata": {},
   "outputs": [
    {
     "name": "stderr",
     "output_type": "stream",
     "text": [
      "c:\\Users\\Harman\\miniconda3\\envs\\gymenv\\Lib\\site-packages\\stable_baselines3\\common\\evaluation.py:67: UserWarning: Evaluation environment is not wrapped with a ``Monitor`` wrapper. This may result in reporting modified episode lengths and rewards, if other wrappers happen to modify these. Consider wrapping environment first with ``Monitor`` wrapper.\n",
      "  warnings.warn(\n"
     ]
    },
    {
     "data": {
      "text/plain": [
       "(8.405015782825648, 3.775745934017255)"
      ]
     },
     "execution_count": 11,
     "metadata": {},
     "output_type": "execute_result"
    }
   ],
   "source": [
    "evaluate_policy(a2c_model, env, n_eval_episodes=10)"
   ]
  },
  {
   "cell_type": "markdown",
   "metadata": {},
   "source": [
    "## 4. **Hindsight Experience Replay with `SB3`**\n",
    "\n",
    "\n",
    "~~HER (Hindsight Experience Replay): A technique for improving sample efficiency in goal-reaching tasks by learning from \"failed\" experiences.~~\n",
    "\n",
    "\n",
    "I wanted to implement this, but I couldn't make it work."
   ]
  }
 ],
 "metadata": {
  "kernelspec": {
   "display_name": "gymenv",
   "language": "python",
   "name": "python3"
  },
  "language_info": {
   "codemirror_mode": {
    "name": "ipython",
    "version": 3
   },
   "file_extension": ".py",
   "mimetype": "text/x-python",
   "name": "python",
   "nbconvert_exporter": "python",
   "pygments_lexer": "ipython3",
   "version": "3.11.9"
  }
 },
 "nbformat": 4,
 "nbformat_minor": 2
}
